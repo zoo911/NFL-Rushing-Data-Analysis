{
 "cells": [
  {
   "cell_type": "code",
   "execution_count": 9,
   "metadata": {},
   "outputs": [],
   "source": [
    "import pandas as pd\n",
    "import csv"
   ]
  },
  {
   "cell_type": "code",
   "execution_count": 14,
   "metadata": {},
   "outputs": [],
   "source": [
    "df = pd.read_csv('train1.csv', engine='python', error_bad_lines=False)"
   ]
  },
  {
   "cell_type": "code",
   "execution_count": 16,
   "metadata": {},
   "outputs": [
    {
     "name": "stdout",
     "output_type": "stream",
     "text": [
      "0            Eric Berry\n",
      "1          Allen Bailey\n",
      "2        Justin Houston\n",
      "3       Derrick Johnson\n",
      "4            Ron Parker\n",
      "5              Dee Ford\n",
      "6     Terrance Mitchell\n",
      "7        Phillip Gaines\n",
      "8       Daniel Sorensen\n",
      "9         Marcus Peters\n",
      "10          Chris Jones\n",
      "11       Danny Amendola\n",
      "12       Rob Gronkowski\n",
      "13        Marcus Cannon\n",
      "14          Nate Solder\n",
      "15            Tom Brady\n",
      "16          Chris Hogan\n",
      "17        Brandin Cooks\n",
      "18          James White\n",
      "19           Shaq Mason\n",
      "20        David Andrews\n",
      "21           Joe Thuney\n",
      "22           Eric Berry\n",
      "23         Allen Bailey\n",
      "24       Justin Houston\n",
      "25      Derrick Johnson\n",
      "26           Ron Parker\n",
      "27             Dee Ford\n",
      "28    Terrance Mitchell\n",
      "29       Phillip Gaines\n",
      "            ...        \n",
      "19                  NaN\n",
      "20                  NaN\n",
      "21                  NaN\n",
      "22                  NaN\n",
      "23                  NaN\n",
      "24                  NaN\n",
      "25                  NaN\n",
      "26                  NaN\n",
      "27                  NaN\n",
      "28                  NaN\n",
      "29                  NaN\n",
      "30                  NaN\n",
      "31                  NaN\n",
      "32                  NaN\n",
      "33                  NaN\n",
      "34                  NaN\n",
      "35                  NaN\n",
      "36                  NaN\n",
      "37                  NaN\n",
      "38                  NaN\n",
      "39                  NaN\n",
      "40                  NaN\n",
      "41                  NaN\n",
      "42                  NaN\n",
      "43                  NaN\n",
      "44                  NaN\n",
      "45                  NaN\n",
      "46                  NaN\n",
      "47                  NaN\n",
      "48                  NaN\n",
      "Name: DisplayName, Length: 284783, dtype: object\n"
     ]
    }
   ],
   "source": [
    "print(df['DisplayName'])"
   ]
  },
  {
   "cell_type": "code",
   "execution_count": null,
   "metadata": {},
   "outputs": [],
   "source": []
  }
 ],
 "metadata": {
  "kernelspec": {
   "display_name": "Python 3",
   "language": "python",
   "name": "python3"
  },
  "language_info": {
   "codemirror_mode": {
    "name": "ipython",
    "version": 3
   },
   "file_extension": ".py",
   "mimetype": "text/x-python",
   "name": "python",
   "nbconvert_exporter": "python",
   "pygments_lexer": "ipython3",
   "version": "3.6.8"
  }
 },
 "nbformat": 4,
 "nbformat_minor": 2
}
